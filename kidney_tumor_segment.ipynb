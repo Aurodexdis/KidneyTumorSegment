{
 "cells": [
  {
   "cell_type": "markdown",
   "id": "983c1140",
   "metadata": {},
   "source": [
    "# BMI 567 - Medical Image Analysis - KiTS19 Kidney Tumor Segmentation Challenge Final Project - Aurod Ounsinegad\n",
    "Comprehensive notebook for the KiTS19 Kidney Tumor Segmentation\n",
    "Challenge Final Project for BMI 567 - Medical Image Analysis.\n",
    "\n",
    "Copyright (c) 2025 Aurod Ounsinegad.\n",
    "\n",
    "This is free, open software released under the MIT License.  See\n",
    "`LICENSE` or https://choosealicense.com/licenses/mit/ for details."
   ]
  },
  {
   "cell_type": "markdown",
   "id": "6192c1f9",
   "metadata": {},
   "source": [
    "## Section 1 - Setup Notebook"
   ]
  },
  {
   "cell_type": "code",
   "execution_count": null,
   "id": "823f7673",
   "metadata": {},
   "outputs": [],
   "source": [
    "%run setup.py\n",
    "setup_env()"
   ]
  },
  {
   "cell_type": "markdown",
   "id": "6bfde5c7",
   "metadata": {},
   "source": [
    "## Section 2 - Exploratory Data Analysis"
   ]
  },
  {
   "cell_type": "code",
   "execution_count": null,
   "id": "041fbd23",
   "metadata": {},
   "outputs": [],
   "source": [
    "%run eda.py\n",
    "kits_data, case_dirs = eda(sample_size=10)"
   ]
  },
  {
   "cell_type": "markdown",
   "id": "363d0f15",
   "metadata": {},
   "source": [
    "## Section 3 - Slice Extraction"
   ]
  },
  {
   "cell_type": "code",
   "execution_count": null,
   "id": "ada2e11d",
   "metadata": {},
   "outputs": [],
   "source": [
    "# Set 'max_case_idx' limit for testing, remove for the full data\n",
    "%run slice_extraction.py\n",
    "extracted_data, slice_metadata = extract_slices(max_case_idx=209)"
   ]
  },
  {
   "cell_type": "markdown",
   "id": "d2190388",
   "metadata": {},
   "source": [
    "## Section 4 - Data Preprocessing"
   ]
  },
  {
   "cell_type": "code",
   "execution_count": null,
   "id": "bb08c7a7",
   "metadata": {},
   "outputs": [],
   "source": [
    "%run preprocess.py\n",
    "preprocessed_data = preprocess_data()"
   ]
  },
  {
   "cell_type": "markdown",
   "id": "d7aa36e6",
   "metadata": {},
   "source": [
    "## Section 5 - Data Split & Preperation"
   ]
  },
  {
   "cell_type": "code",
   "execution_count": null,
   "id": "7949d721",
   "metadata": {},
   "outputs": [],
   "source": [
    "%run data_split.py\n",
    "train_data, val_data, test_data, split_indices = create_data_split()"
   ]
  },
  {
   "cell_type": "markdown",
   "id": "ea0240ca",
   "metadata": {},
   "source": [
    "## Section 6 - Baseline Methods - Adaptive Thresholding"
   ]
  },
  {
   "cell_type": "code",
   "execution_count": null,
   "id": "ed89888c",
   "metadata": {},
   "outputs": [],
   "source": [
    "%run threshold.py\n",
    "train_results, val_results = threshold_segment()"
   ]
  },
  {
   "cell_type": "markdown",
   "id": "0c4511c9",
   "metadata": {},
   "source": [
    "## Section 7 - U-Net Model"
   ]
  },
  {
   "cell_type": "code",
   "execution_count": null,
   "id": "4a1c098b",
   "metadata": {},
   "outputs": [],
   "source": [
    "%run unet.py\n",
    "model, val_results = implement_unet(epochs=250, batch_size=8)"
   ]
  },
  {
   "cell_type": "markdown",
   "id": "002302ed",
   "metadata": {},
   "source": [
    "## Section 8 - Method Comparison & Evaluation on Test Data"
   ]
  },
  {
   "cell_type": "code",
   "execution_count": null,
   "id": "692f3107",
   "metadata": {},
   "outputs": [],
   "source": [
    "%run test_eval.py\n",
    "evaluation_results = test_eval()"
   ]
  },
  {
   "cell_type": "markdown",
   "id": "f597417c",
   "metadata": {},
   "source": [
    "## Section 9 - Feature Extraction & Analysis"
   ]
  },
  {
   "cell_type": "code",
   "execution_count": null,
   "id": "4cf1ad44",
   "metadata": {},
   "outputs": [],
   "source": [
    "%run feat_extract_analysis.py\n",
    "features_df = analyze_morphological_features()"
   ]
  }
 ],
 "metadata": {
  "kernelspec": {
   "display_name": "base",
   "language": "python",
   "name": "python3"
  },
  "language_info": {
   "codemirror_mode": {
    "name": "ipython",
    "version": 3
   },
   "file_extension": ".py",
   "mimetype": "text/x-python",
   "name": "python",
   "nbconvert_exporter": "python",
   "pygments_lexer": "ipython3",
   "version": "3.12.7"
  }
 },
 "nbformat": 4,
 "nbformat_minor": 5
}
